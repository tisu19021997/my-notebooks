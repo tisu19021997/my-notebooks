{
  "nbformat": 4,
  "nbformat_minor": 0,
  "metadata": {
    "colab": {
      "name": "Part of Incremental SVD Paper*",
      "provenance": [],
      "collapsed_sections": [
        "5-2LOpNQW9GM"
      ],
      "toc_visible": true
    },
    "kernelspec": {
      "name": "python3",
      "display_name": "Python 3"
    }
  },
  "cells": [
    {
      "cell_type": "markdown",
      "metadata": {
        "id": "i-VeomDeoyTx"
      },
      "source": [
        "## DEPENDENCIES"
      ]
    },
    {
      "cell_type": "code",
      "metadata": {
        "id": "p834Z4dlo2QA",
        "outputId": "38a5e1c3-770d-4993-dbe1-d82b9623b259",
        "colab": {
          "base_uri": "https://localhost:8080/",
          "height": 957
        }
      },
      "source": [
        "!pip install scikit-surprise seaborn\n",
        "!pip install pyspark\n",
        "!pip install git+https://github.com/gbolmier/funk-svd\n",
        "\n",
        "# !apt-get install openjdk-8-jdk-headless -qq > /dev/null\n",
        "# !wget -q https://www-us.apache.org/dist/spark/spark-2.4.6/spark-2.4.6-bin-hadoop2.7.tgz\n",
        "# !tar xf spark-2.4.6-bin-hadoop2.7.tgz"
      ],
      "execution_count": null,
      "outputs": [
        {
          "output_type": "stream",
          "text": [
            "Collecting scikit-surprise\n",
            "\u001b[?25l  Downloading https://files.pythonhosted.org/packages/97/37/5d334adaf5ddd65da99fc65f6507e0e4599d092ba048f4302fe8775619e8/scikit-surprise-1.1.1.tar.gz (11.8MB)\n",
            "\u001b[K     |████████████████████████████████| 11.8MB 6.4MB/s \n",
            "\u001b[?25hRequirement already satisfied: seaborn in /usr/local/lib/python3.6/dist-packages (0.10.1)\n",
            "Requirement already satisfied: joblib>=0.11 in /usr/local/lib/python3.6/dist-packages (from scikit-surprise) (0.16.0)\n",
            "Requirement already satisfied: numpy>=1.11.2 in /usr/local/lib/python3.6/dist-packages (from scikit-surprise) (1.18.5)\n",
            "Requirement already satisfied: scipy>=1.0.0 in /usr/local/lib/python3.6/dist-packages (from scikit-surprise) (1.4.1)\n",
            "Requirement already satisfied: six>=1.10.0 in /usr/local/lib/python3.6/dist-packages (from scikit-surprise) (1.15.0)\n",
            "Requirement already satisfied: matplotlib>=2.1.2 in /usr/local/lib/python3.6/dist-packages (from seaborn) (3.2.2)\n",
            "Requirement already satisfied: pandas>=0.22.0 in /usr/local/lib/python3.6/dist-packages (from seaborn) (1.0.5)\n",
            "Requirement already satisfied: python-dateutil>=2.1 in /usr/local/lib/python3.6/dist-packages (from matplotlib>=2.1.2->seaborn) (2.8.1)\n",
            "Requirement already satisfied: pyparsing!=2.0.4,!=2.1.2,!=2.1.6,>=2.0.1 in /usr/local/lib/python3.6/dist-packages (from matplotlib>=2.1.2->seaborn) (2.4.7)\n",
            "Requirement already satisfied: kiwisolver>=1.0.1 in /usr/local/lib/python3.6/dist-packages (from matplotlib>=2.1.2->seaborn) (1.2.0)\n",
            "Requirement already satisfied: cycler>=0.10 in /usr/local/lib/python3.6/dist-packages (from matplotlib>=2.1.2->seaborn) (0.10.0)\n",
            "Requirement already satisfied: pytz>=2017.2 in /usr/local/lib/python3.6/dist-packages (from pandas>=0.22.0->seaborn) (2018.9)\n",
            "Building wheels for collected packages: scikit-surprise\n",
            "  Building wheel for scikit-surprise (setup.py) ... \u001b[?25l\u001b[?25hdone\n",
            "  Created wheel for scikit-surprise: filename=scikit_surprise-1.1.1-cp36-cp36m-linux_x86_64.whl size=1670955 sha256=d447403b170e7337bb9b072d04186a4676c5082cd0e64621940c5fa8967d3cf8\n",
            "  Stored in directory: /root/.cache/pip/wheels/78/9c/3d/41b419c9d2aff5b6e2b4c0fc8d25c538202834058f9ed110d0\n",
            "Successfully built scikit-surprise\n",
            "Installing collected packages: scikit-surprise\n",
            "Successfully installed scikit-surprise-1.1.1\n",
            "Collecting pyspark\n",
            "\u001b[?25l  Downloading https://files.pythonhosted.org/packages/8e/b0/bf9020b56492281b9c9d8aae8f44ff51e1bc91b3ef5a884385cb4e389a40/pyspark-3.0.0.tar.gz (204.7MB)\n",
            "\u001b[K     |████████████████████████████████| 204.7MB 75kB/s \n",
            "\u001b[?25hCollecting py4j==0.10.9\n",
            "\u001b[?25l  Downloading https://files.pythonhosted.org/packages/9e/b6/6a4fb90cd235dc8e265a6a2067f2a2c99f0d91787f06aca4bcf7c23f3f80/py4j-0.10.9-py2.py3-none-any.whl (198kB)\n",
            "\u001b[K     |████████████████████████████████| 204kB 51.4MB/s \n",
            "\u001b[?25hBuilding wheels for collected packages: pyspark\n",
            "  Building wheel for pyspark (setup.py) ... \u001b[?25l\u001b[?25hdone\n",
            "  Created wheel for pyspark: filename=pyspark-3.0.0-py2.py3-none-any.whl size=205044182 sha256=5d2015ba2a2ff3a0b7f712aa24dcef7f3f0e010e45a0e4eb27ed4205e5898667\n",
            "  Stored in directory: /root/.cache/pip/wheels/57/27/4d/ddacf7143f8d5b76c45c61ee2e43d9f8492fc5a8e78ebd7d37\n",
            "Successfully built pyspark\n",
            "Installing collected packages: py4j, pyspark\n",
            "Successfully installed py4j-0.10.9 pyspark-3.0.0\n",
            "Collecting git+https://github.com/gbolmier/funk-svd\n",
            "  Cloning https://github.com/gbolmier/funk-svd to /tmp/pip-req-build-b3zc9cv6\n",
            "  Running command git clone -q https://github.com/gbolmier/funk-svd /tmp/pip-req-build-b3zc9cv6\n",
            "Requirement already satisfied: numba>=0.38.0 in /usr/local/lib/python3.6/dist-packages (from funk-svd==0.0.1.dev1) (0.48.0)\n",
            "Requirement already satisfied: numpy>=1.14.3 in /usr/local/lib/python3.6/dist-packages (from funk-svd==0.0.1.dev1) (1.18.5)\n",
            "Requirement already satisfied: pandas>=0.23.0 in /usr/local/lib/python3.6/dist-packages (from funk-svd==0.0.1.dev1) (1.0.5)\n",
            "Requirement already satisfied: llvmlite<0.32.0,>=0.31.0dev0 in /usr/local/lib/python3.6/dist-packages (from numba>=0.38.0->funk-svd==0.0.1.dev1) (0.31.0)\n",
            "Requirement already satisfied: setuptools in /usr/local/lib/python3.6/dist-packages (from numba>=0.38.0->funk-svd==0.0.1.dev1) (49.2.0)\n",
            "Requirement already satisfied: pytz>=2017.2 in /usr/local/lib/python3.6/dist-packages (from pandas>=0.23.0->funk-svd==0.0.1.dev1) (2018.9)\n",
            "Requirement already satisfied: python-dateutil>=2.6.1 in /usr/local/lib/python3.6/dist-packages (from pandas>=0.23.0->funk-svd==0.0.1.dev1) (2.8.1)\n",
            "Requirement already satisfied: six>=1.5 in /usr/local/lib/python3.6/dist-packages (from python-dateutil>=2.6.1->pandas>=0.23.0->funk-svd==0.0.1.dev1) (1.15.0)\n",
            "Building wheels for collected packages: funk-svd\n",
            "  Building wheel for funk-svd (setup.py) ... \u001b[?25l\u001b[?25hdone\n",
            "  Created wheel for funk-svd: filename=funk_svd-0.0.1.dev1-cp36-none-any.whl size=8597 sha256=d7e007deeb7cb47a98bf65c958f962b54574816975b835341376a60660047e76\n",
            "  Stored in directory: /tmp/pip-ephem-wheel-cache-hkqfkb3_/wheels/66/f1/cb/e8147525b73388cc0bd5588c915e731ab65aba9a968e3ba455\n",
            "Successfully built funk-svd\n",
            "Installing collected packages: funk-svd\n",
            "Successfully installed funk-svd-0.0.1.dev1\n"
          ],
          "name": "stdout"
        }
      ]
    },
    {
      "cell_type": "code",
      "metadata": {
        "id": "3XHlbqC9pA0_",
        "outputId": "778606f5-fe6a-4e5d-90cd-05759594574e",
        "colab": {
          "base_uri": "https://localhost:8080/",
          "height": 72
        }
      },
      "source": [
        "# spark\n",
        "import os\n",
        "import pyspark\n",
        "\n",
        "# os.environ[\"JAVA_HOME\"] = \"/usr/lib/jvm/java-8-openjdk-amd64\"\n",
        "# os.environ[\"SPARK_HOME\"] = \"/content/spark-2.4.6-bin-hadoop2.7\"\n",
        "\n",
        "# import findspark\n",
        "# findspark.init()\n",
        "from pyspark.sql import SparkSession\n",
        "spark = SparkSession.builder.master(\"local[*]\").getOrCreate()\n",
        "spark.sparkContext.setCheckpointDir('/content/drive/My Drive/thesis/checkpoint/')\n",
        "\n",
        "from pyspark.ml import Pipeline\n",
        "from pyspark.ml.evaluation import RegressionEvaluator, MulticlassClassificationEvaluator\n",
        "from pyspark.ml.tuning import ParamGridBuilder, TrainValidationSplit\n",
        "from pyspark.ml.recommendation import ALS, ALSModel\n",
        "from pyspark.ml.feature import StringIndexer\n",
        "from pyspark.sql.types import StructField, StructType, StringType, FloatType\n",
        "\n",
        "# system\n",
        "import sys\n",
        "sys.path.append('/content/drive/My Drive/thesis')\n",
        "\n",
        "# dataframe and plotting\n",
        "import pandas as pd\n",
        "import matplotlib.pyplot as plt\n",
        "import matplotlib.ticker as plticker\n",
        "import seaborn as sns\n",
        "\n",
        "# surprise library\n",
        "from surprise import Reader, Dataset, dump\n",
        "from surprise.model_selection import train_test_split, cross_validate, KFold\n",
        "from surprise.accuracy import rmse, mae\n",
        "\n",
        "# source\n",
        "from util.util import precision_recall_at_k\n",
        "\n",
        "%matplotlib inline\n",
        "pd.plotting.register_matplotlib_converters()"
      ],
      "execution_count": null,
      "outputs": [
        {
          "output_type": "stream",
          "text": [
            "/usr/local/lib/python3.6/dist-packages/statsmodels/tools/_testing.py:19: FutureWarning: pandas.util.testing is deprecated. Use the functions in the public API at pandas.testing instead.\n",
            "  import pandas.util.testing as tm\n"
          ],
          "name": "stderr"
        }
      ]
    },
    {
      "cell_type": "markdown",
      "metadata": {
        "id": "oqhSPjWJpe-2"
      },
      "source": [
        "### CONSTANTS"
      ]
    },
    {
      "cell_type": "code",
      "metadata": {
        "id": "ScOqsPIgzx9o"
      },
      "source": [
        "# constant for consistent evaluation\n",
        "\n",
        "# the answer of the universe\n",
        "SEED = 42\n",
        "\n",
        "# number of recommendation products\n",
        "N_REC = 50\n",
        "\n",
        "# traint set ratio\n",
        "TEST_SIZE = 0.2\n",
        "\n",
        "# num data\n",
        "NROWS = 1000000\n",
        "\n",
        "# number of K to compute precision and recall @k\n",
        "K = 20\n",
        "KS = range(5, 15, 5)\n",
        "\n",
        "# threshold of a rating to be considered \"relevant\"\n",
        "THRESHOLD = 3.0\n",
        "\n",
        "# drive path\n",
        "DRIVE_PATH = 'drive/My Drive/thesis'"
      ],
      "execution_count": null,
      "outputs": []
    },
    {
      "cell_type": "markdown",
      "metadata": {
        "id": "LQLollOBuHrc"
      },
      "source": [
        "### RECOMMENDER WRAPPER CLASS"
      ]
    },
    {
      "cell_type": "code",
      "metadata": {
        "id": "36VyNnfG3VCw"
      },
      "source": [
        "import numpy as np\n",
        "import sys\n",
        "sys.path.append('/content/drive/My Drive/thesis')\n",
        "\n",
        "from util.util import precision_recall_at_k\n",
        "\n",
        "from surprise import SVD, dump\n",
        "from surprise.utils import get_rng\n",
        "from surprise.model_selection import cross_validate\n",
        "\n",
        "from collections import defaultdict\n",
        "\n",
        "def prak(predictions, k=10, threshold=3.0):\n",
        "    \"\"\"Return precision and recall at k metrics for each user.\"\"\"\n",
        "\n",
        "    # First map the predictions to each user.\n",
        "    user_est_true = defaultdict(list)\n",
        "    for uid, _, true_r, est, _ in predictions:\n",
        "        user_est_true[uid].append((est, true_r))\n",
        "\n",
        "    precisions = dict()\n",
        "    recalls = dict()\n",
        "    for uid, user_ratings in user_est_true.items():\n",
        "        # Sort user ratings by estimated value\n",
        "        user_ratings.sort(key=lambda x: x[0], reverse=True)\n",
        "\n",
        "        # Number of relevant items\n",
        "        n_rel = sum((true_r >= threshold) for (_, true_r) in user_ratings)\n",
        "\n",
        "        # Number of recommended items in top k\n",
        "        n_rec_k = sum((est >= threshold) for (est, _) in user_ratings[:k])\n",
        "\n",
        "        # Number of relevant and recommended items in top k\n",
        "        n_rel_and_rec_k = sum(((true_r >= threshold) and (est >= threshold))\n",
        "                              for (est, true_r) in user_ratings[:k])\n",
        "\n",
        "        # Precision@K: Proportion of recommended items that are relevant\n",
        "        precisions[uid] = n_rel_and_rec_k / n_rec_k if n_rec_k != 0 else 1\n",
        "\n",
        "        # Recall@K: Proportion of relevant items that are recommended\n",
        "        recalls[uid] = n_rel_and_rec_k / n_rel if n_rel != 0 else 1\n",
        "\n",
        "    return precisions, recalls\n",
        "\n",
        "class Recommender:\n",
        "    def __init__(self, model_path):\n",
        "        # load prediction and model from a given file\n",
        "        self.predictions, self.model = dump.load(model_path)\n",
        "        self.user_ratings = defaultdict(set)\n",
        "\n",
        "    def recommend(self, raw_uid, k=50, exclude_test=False):\n",
        "        recommendations = []\n",
        "        # get all the items from saved trainset\n",
        "        for iid in self.model.trainset.all_items():\n",
        "          if exclude_test:\n",
        "            # if user has rated the product, skip it\n",
        "            uid = self.model.trainset.to_inner_uid(raw_uid)\n",
        "            if uid in self.user_ratings and iid in self.user_ratings[uid]:\n",
        "              continue\n",
        "\n",
        "          rid = self.model.trainset.to_raw_iid(iid)\n",
        "          prediction = self.model.predict(raw_uid, rid)\n",
        "\n",
        "          # only consider rating that are larger or equal than 3\n",
        "          #if prediction.est >= 3:\n",
        "          recommendations.append((rid, prediction.est))\n",
        "\n",
        "        recommendations.sort(key=lambda x: x[1], reverse=True)\n",
        "        return recommendations[:k]\n",
        "\n",
        "    def map_user_rating(self):\n",
        "      for uid, ratings in self.model.trainset.ur.items():\n",
        "        self.user_ratings[uid] = set([r[0] for r in ratings])\n",
        "\n",
        "    def get_neighbors(self, raw_id, user_based=False, k=50):\n",
        "      \"\"\"Returns Top-K neighbors of a user of item.\n",
        "      Args:\n",
        "          raw_id: User/item raw id\n",
        "          k: Number of neighbors\n",
        "      \"\"\"\n",
        "      if user_based:\n",
        "          to_inner = self.model.trainset.to_inner_uid\n",
        "          to_raw = self.model.trainset.to_raw_uid\n",
        "      else:\n",
        "          to_inner = self.model.trainset.to_inner_iid\n",
        "          to_raw = self.model.trainset.to_raw_iid\n",
        "\n",
        "      inner_id = to_inner(raw_id)\n",
        "      inner_neighbors = self.model.get_neighbors(inner_id, k=k)\n",
        "\n",
        "      raw_neighbors = [to_raw(iid) for iid in inner_neighbors]\n",
        "  \n",
        "      return raw_neighbors\n",
        "\n",
        "    def get_short_head_and_long_tail_items(self, threshold):\n",
        "        \"\"\"Returns the short head and long tail items as a tuple.\n",
        "        Args:\n",
        "            threshold (int): If user's number of ratings larger than the threshold, it is in short-head.\n",
        "             Else, it is in long-tail.\n",
        "        \"\"\"\n",
        "        # using set for faster look-up time\n",
        "        short_head_items = set()\n",
        "        long_tail_items = set()\n",
        "\n",
        "\n",
        "        for inner_iid, ratings in self.model.trainset.ir.items():\n",
        "            raw_iid = self.model.trainset.to_raw_iid(inner_iid)\n",
        "            if len(ratings) >= threshold:\n",
        "                short_head_items.add(raw_iid)\n",
        "            else:\n",
        "                long_tail_items.add(raw_iid)\n",
        "\n",
        "        return short_head_items, long_tail_items\n",
        "\n",
        "    def compute_precision_recall_at_k(self, k=20, threshold=3):\n",
        "      precisions, recalls = prak(self.predictions, k=k, threshold=threshold)\n",
        "      \n",
        "      self.avg_precision = sum(prec for prec in precisions.values()) / len(precisions)\n",
        "      self.avg_recall = sum(rec for rec in recalls.values()) / len(recalls)\n",
        "\n",
        "      return self.avg_precision, self.avg_recall\n",
        "\n",
        "    def compute_f1(self):\n",
        "      return 2 * (self.avg_precision * self.avg_recall) / (self.avg_precision + self.avg_recall)"
      ],
      "execution_count": null,
      "outputs": []
    },
    {
      "cell_type": "markdown",
      "metadata": {
        "id": "6y72T_UbuRvl"
      },
      "source": [
        "### NEW INCREMENTAL-SVD"
      ]
    },
    {
      "cell_type": "code",
      "metadata": {
        "id": "_Tc-3njfhmum"
      },
      "source": [
        "from funk_svd import SVD\n",
        "from funk_svd.fast_methods import _run_epoch\n",
        "\n",
        "class ISVD(SVD):\n",
        "  def partial_fit(self, X):\n",
        "    X = X.copy()\n",
        "\n",
        "    u_ids = X['u_id'].unique().tolist()\n",
        "    i_ids = X['i_id'].unique().tolist()\n",
        "\n",
        "    n_user = len(self.user_dict)\n",
        "    n_item = len(self.item_dict)\n",
        "    n_new_user = 0\n",
        "    n_new_item = 0\n",
        "\n",
        "    for u_id in u_ids:\n",
        "      if u_id not in self.user_dict:\n",
        "        self.user_dict[u_id] = n_user\n",
        "        n_user += 1\n",
        "        n_new_user += 1\n",
        "\n",
        "    for i_id in i_ids:\n",
        "      if i_id not in self.item_dict:\n",
        "        self.item_dict[i_id] = n_item\n",
        "        n_item += 1\n",
        "        n_new_item += 1\n",
        "\n",
        "    X['u_id'] = X['u_id'].map(self.user_dict).astype(np.int32)\n",
        "    X['i_id'] = X['i_id'].map(self.item_dict).astype(np.int32)\n",
        "\n",
        "    # Start with the previous model\n",
        "    pu = self.pu\n",
        "    qi = self.qi\n",
        "    bu = self.bu\n",
        "    bi = self.bi\n",
        "\n",
        "    X = X.values\n",
        "\n",
        "    # Add rows for existed pu, qi, bu, bi\n",
        "    pu_ = np.random.normal(0, .1, (n_new_user, self.n_factors))\n",
        "    qi_ = np.random.normal(0, .1, (n_new_item, self.n_factors))\n",
        "    bu_ = np.zeros(n_new_user)\n",
        "    bi_ = np.zeros(n_new_item)\n",
        "\n",
        "    pu = np.concatenate((pu, pu_))\n",
        "    qi = np.concatenate((qi, qi_))\n",
        "    bu = np.concatenate((bu, bu_))\n",
        "    bi = np.concatenate((bi, bi_))\n",
        "\n",
        "    # Run SGD for 1 epoch\n",
        "    start = self._on_epoch_begin(0)\n",
        "    pu, qi, bu, bi = _run_epoch(X, pu, qi, bu, bi, self.global_mean, self.n_factors, self.lr, self.reg)\n",
        "    self._on_epoch_end(start)\n",
        "\n",
        "    self.pu = pu\n",
        "    self.qi = qi\n",
        "    self.bu = bu\n",
        "    self.bi = bi\n",
        "    \n",
        "import pickle \n",
        "\n",
        "def save_model(file_name, model=None, predictions=None, trainset=None):\n",
        "  dump_obj = {\n",
        "      'predictions': predictions,\n",
        "      'model': model,\n",
        "      'trainset': trainset,\n",
        "  }\n",
        "  pickle.dump(dump_obj, open(file_name, 'wb'), protocol=pickle.HIGHEST_PROTOCOL)\n",
        "\n",
        "def load_model(file_name):\n",
        "  dump_obj = pickle.load(open(file_name, 'rb'))\n",
        "  return dump_obj['model'], dump_obj['predictions'], dump_obj['trainset']\n",
        "\n",
        "\n",
        "from collections import defaultdict\n",
        "\n",
        "class RecSys:\n",
        "  def __init__(self, model_path):\n",
        "    self.model, self.predictions, self.trainset = load_model(model_path)\n",
        "    \n",
        "  def recommend(self, u_id, n=50):\n",
        "    # Get all train products\n",
        "    all_items = self.trainset['i_id'].unique()\n",
        "    # Predict the user rating on each product\n",
        "\n",
        "    recommendations = []\n",
        "    for i_id in all_items:\n",
        "      prediction = self.model.predict_pair(u_id, i_id)\n",
        "      recommendations.append((i_id, prediction))\n",
        "\n",
        "    recommendations.sort(key=lambda x: x[1], reverse=True)\n",
        "    return recommendations[:n]\n",
        "\n",
        "  \n",
        "  def get_top_n(self, n=10):\n",
        "    # Get top n recommendation from test set\n",
        "    top_n = defaultdict(list)\n",
        "    for uid, iid, true_r, est in self.predictions.values:\n",
        "        top_n[uid].append((iid, est))\n",
        "\n",
        "    # Then sort the predictions for each user and retrieve the k highest ones.\n",
        "    for uid, user_ratings in top_n.items():\n",
        "        user_ratings.sort(key=lambda x: x[1], reverse=True)\n",
        "        top_n[uid] = user_ratings[:n]\n",
        "\n",
        "    return top_n\n",
        "\n",
        "  def get_ideal_top_n(self, n=10):\n",
        "    ideal_top_n = defaultdict(list)\n",
        "\n",
        "    for raw_uid, raw_iid, overall, _ in self.predictions.values:\n",
        "      ideal_top_n[raw_uid].append((raw_iid, overall))\n",
        "\n",
        "    for raw_uid, user_ratings in ideal_top_n.items():\n",
        "      user_ratings.sort(key=lambda x: x[1], reverse=True)\n",
        "      ideal_top_n[raw_uid] = user_ratings[:n]\n",
        "\n",
        "    return ideal_top_n\n",
        "    \n",
        "  def get_short_head_and_long_tail_items(self, threshold):\n",
        "    \"\"\"Returns the short head and long tail items as a tuple.\n",
        "    Args:\n",
        "        threshold (int): If user's number of ratings larger than the threshold, it is in short-head.\n",
        "          Else, it is in long-tail.\n",
        "    \"\"\"\n",
        "    # using set for faster look-up time\n",
        "    train_items = self.trainset.groupby(by='i_id').count().reset_index()\n",
        "    short_head_items = set(train_items[train_items['rating'] >= threshold]['i_id'].values)\n",
        "    long_tail_items = set(train_items[train_items['rating'] < threshold]['i_id'].values)\n",
        "\n",
        "    self.short_head = short_head_items\n",
        "    self.long_tail = long_tail_items\n",
        "\n",
        "    return short_head_items, long_tail_items\n",
        "\n",
        "  def get_user_profile(self, u_id):\n",
        "    return self.trainset[self.trainset['u_id'] == u_id]['i_id'].unique()"
      ],
      "execution_count": null,
      "outputs": []
    },
    {
      "cell_type": "markdown",
      "metadata": {
        "id": "i9GKxAPQzk2v"
      },
      "source": [
        "### PYSPARK HELPER FUNCTIONS"
      ]
    },
    {
      "cell_type": "code",
      "metadata": {
        "id": "kqHJhQVbZvDB"
      },
      "source": [
        "def uid_to_ruid(df, uid):\n",
        "  '''\n",
        "  Convert user index to raw \"reviewerID\"\n",
        "  '''\n",
        "  user_row = df[df['reviewerID_index'].isin([uid])]\n",
        "\n",
        "  if user_row.count():\n",
        "    return user_row.collect()[0].reviewerID\n",
        "\n",
        "  return False\n",
        "\n",
        "def iid_to_riid(df, iid):\n",
        "  '''\n",
        "  Convert item index to \"asin\"\n",
        "  '''\n",
        "  item_row = df[df['asin_index'].isin([iid])]\n",
        "\n",
        "  if item_row.count():\n",
        "    return item_row.collect()[0].asin\n",
        "  \n",
        "  return False\n",
        "\n",
        "def riid_to_iid(df, rid):\n",
        "  item_row = df[df['asin'].isin([rid])] \n",
        "\n",
        "  if item_row.count():\n",
        "    return item_row.collect()[0]['asin_index']\n",
        "\n",
        "  return False\n",
        "\n",
        "def ruid_to_uid(df, ruid):\n",
        "  user_row = df[df['reviewerID'].isin([ruid])]\n",
        "\n",
        "  if user_row.count():\n",
        "    return user_row.collect()[0]['reviewerID_index']\n",
        "\n",
        "  return False\n",
        "\n",
        "def als_recommend(model, df, ruid, k=10):\n",
        "  uid = ruid_to_uid(df, ruid)\n",
        "  user_row = df.filter(df['reviewerID_index'] == uid).select('reviewerID_index').distinct()\n",
        "\n",
        "  if user_row.count():\n",
        "      rec_dict = model.recommendForUserSubset(user_row, k).collect()[0].asDict()['recommendations']\n",
        "      rec_list = set()\n",
        "\n",
        "      for rec in rec_dict:\n",
        "        rec_list.add((iid_to_riid(df, rec[0]), rec[1]))\n",
        "      \n",
        "      return rec_list\n",
        "      \n",
        "  return False\n",
        "\n",
        "def pyspark_precision_recall_at_k(predictions, k=10, threshold=3.0):\n",
        "  precisions = dict()\n",
        "  recalls = dict()\n",
        "\n",
        "  for uid, user_ratings in predictions.items():\n",
        "    # number of relevant items\n",
        "    n_rel = sum((overall >= threshold) for (_, overall) in user_ratings)\n",
        "\n",
        "    # number of recommended item in top K\n",
        "    n_rec = sum((prediction >= threshold) for (prediction, _) in user_ratings[:k])\n",
        "\n",
        "    # number of relevant and recommended in top K\n",
        "    n_rel_and_rec = sum((overall >= threshold) and (prediction >= threshold) for (prediction, overall) in user_ratings[:k])\n",
        "\n",
        "    # precision@k = proportion of recommended items that are relevant\n",
        "    precisions[uid] = n_rel_and_rec / n_rec if n_rec != 0 else 0\n",
        "\n",
        "    # recall@k = proportion of relevant items that are recommended\n",
        "    recalls[uid] = n_rel_and_rec / n_rel if n_rel != 0 else 0\n",
        "\n",
        "  als_precision = sum(prec for prec in precisions.values()) / len(precisions)\n",
        "  als_recall = sum(rec for rec in recalls.values()) / len(recalls)\n",
        "  als_f1 = 2 * (als_precision * als_recall) / (als_precision + als_recall)\n",
        "\n",
        "  return als_precision, als_recall, als_f1"
      ],
      "execution_count": null,
      "outputs": []
    },
    {
      "cell_type": "markdown",
      "metadata": {
        "id": "48-rxmFUpWjM"
      },
      "source": [
        "## DATA PRE-PROCESSING"
      ]
    },
    {
      "cell_type": "markdown",
      "metadata": {
        "id": "5-2LOpNQW9GM"
      },
      "source": [
        "### REMOVE NOISE "
      ]
    },
    {
      "cell_type": "code",
      "metadata": {
        "id": "i7J6UVRSoc5t",
        "outputId": "32d88967-8dc2-4e49-bbf9-4af8990fb732",
        "colab": {
          "base_uri": "https://localhost:8080/",
          "height": 34
        }
      },
      "source": [
        "import pandas as pd\n",
        "# Load data\n",
        "ratings = pd.read_csv(DRIVE_PATH + '/data/ratings_score.csv', names=['user', 'item', 'overall', 'time'])\n",
        "ratings.shape"
      ],
      "execution_count": null,
      "outputs": [
        {
          "output_type": "execute_result",
          "data": {
            "text/plain": [
              "(7824482, 4)"
            ]
          },
          "metadata": {
            "tags": []
          },
          "execution_count": 14
        }
      ]
    },
    {
      "cell_type": "code",
      "metadata": {
        "id": "IFvKwHaDok3c",
        "outputId": "5dbfd93c-40be-4006-803b-d2260ed16cbf",
        "colab": {
          "base_uri": "https://localhost:8080/",
          "height": 293
        }
      },
      "source": [
        "ratings.drop(columns=['time'], axis=1, inplace=True)\n",
        "ratings.plot(kind='hist')"
      ],
      "execution_count": null,
      "outputs": [
        {
          "output_type": "execute_result",
          "data": {
            "text/plain": [
              "<matplotlib.axes._subplots.AxesSubplot at 0x7fa50751f668>"
            ]
          },
          "metadata": {
            "tags": []
          },
          "execution_count": 15
        },
        {
          "output_type": "display_data",
          "data": {
            "image/png": "[encoded data removed]",
            "text/plain": [
              "<Figure size 432x288 with 1 Axes>"
            ]
          },
          "metadata": {
            "tags": [],
            "needs_background": "light"
          }
        }
      ]
    },
    {
      "cell_type": "code",
      "metadata": {
        "id": "aiVZQifAN831"
      },
      "source": [
        "user_count = ratings.groupby('user').overall.count().reset_index().rename(columns={'overall': 'num_rating'})"
      ],
      "execution_count": null,
      "outputs": []
    },
    {
      "cell_type": "code",
      "metadata": {
        "id": "mtlG5hJYOWUt",
        "outputId": "b67d7492-804a-4912-88ac-4c0a4b26847b",
        "colab": {
          "base_uri": "https://localhost:8080/",
          "height": 363
        }
      },
      "source": [
        "import numpy as np \n",
        "user_count.quantile(np.arange(0.9, 1, 0.01))"
      ],
      "execution_count": null,
      "outputs": [
        {
          "output_type": "execute_result",
          "data": {
            "text/html": [
              "<div>\n",
              "<style scoped>\n",
              "    .dataframe tbody tr th:only-of-type {\n",
              "        vertical-align: middle;\n",
              "    }\n",
              "\n",
              "    .dataframe tbody tr th {\n",
              "        vertical-align: top;\n",
              "    }\n",
              "\n",
              "    .dataframe thead th {\n",
              "        text-align: right;\n",
              "    }\n",
              "</style>\n",
              "<table border=\"1\" class=\"dataframe\">\n",
              "  <thead>\n",
              "    <tr style=\"text-align: right;\">\n",
              "      <th></th>\n",
              "      <th>num_rating</th>\n",
              "    </tr>\n",
              "  </thead>\n",
              "  <tbody>\n",
              "    <tr>\n",
              "      <th>0.90</th>\n",
              "      <td>3.0</td>\n",
              "    </tr>\n",
              "    <tr>\n",
              "      <th>0.91</th>\n",
              "      <td>4.0</td>\n",
              "    </tr>\n",
              "    <tr>\n",
              "      <th>0.92</th>\n",
              "      <td>4.0</td>\n",
              "    </tr>\n",
              "    <tr>\n",
              "      <th>0.93</th>\n",
              "      <td>4.0</td>\n",
              "    </tr>\n",
              "    <tr>\n",
              "      <th>0.94</th>\n",
              "      <td>5.0</td>\n",
              "    </tr>\n",
              "    <tr>\n",
              "      <th>0.95</th>\n",
              "      <td>5.0</td>\n",
              "    </tr>\n",
              "    <tr>\n",
              "      <th>0.96</th>\n",
              "      <td>6.0</td>\n",
              "    </tr>\n",
              "    <tr>\n",
              "      <th>0.97</th>\n",
              "      <td>7.0</td>\n",
              "    </tr>\n",
              "    <tr>\n",
              "      <th>0.98</th>\n",
              "      <td>8.0</td>\n",
              "    </tr>\n",
              "    <tr>\n",
              "      <th>0.99</th>\n",
              "      <td>12.0</td>\n",
              "    </tr>\n",
              "  </tbody>\n",
              "</table>\n",
              "</div>"
            ],
            "text/plain": [
              "      num_rating\n",
              "0.90         3.0\n",
              "0.91         4.0\n",
              "0.92         4.0\n",
              "0.93         4.0\n",
              "0.94         5.0\n",
              "0.95         5.0\n",
              "0.96         6.0\n",
              "0.97         7.0\n",
              "0.98         8.0\n",
              "0.99        12.0"
            ]
          },
          "metadata": {
            "tags": []
          },
          "execution_count": 9
        }
      ]
    },
    {
      "cell_type": "code",
      "metadata": {
        "id": "KR3q8_WpsjaE"
      },
      "source": [
        "def filter_noise(ratings, threshold=10):\n",
        "  ratings_per_user = ratings.groupby('user').overall.count().reset_index().rename(columns={'overall': 'num_rating'})\n",
        "  ratings_ = ratings.merge(ratings_per_user, on='user')\n",
        "  cleaned_ratings = ratings_[ratings_.num_rating.astype('int') >= threshold]\n",
        "  cleaned_ratings.drop(columns=['num_rating'], axis=1, inplace=True)\n",
        "\n",
        "  return cleaned_ratings"
      ],
      "execution_count": null,
      "outputs": []
    },
    {
      "cell_type": "code",
      "metadata": {
        "id": "_9ypLEbWvzLa",
        "outputId": "12c78bda-4a17-4c49-8198-651e8a41416e",
        "colab": {
          "base_uri": "https://localhost:8080/",
          "height": 104
        }
      },
      "source": [
        "ratings_ = filter_noise(ratings, 50)\n",
        "# ratings_.to_csv(DRIVE_PATH + '/data/final.csv', index=False)"
      ],
      "execution_count": null,
      "outputs": [
        {
          "output_type": "stream",
          "text": [
            "/usr/local/lib/python3.6/dist-packages/pandas/core/frame.py:3997: SettingWithCopyWarning: \n",
            "A value is trying to be set on a copy of a slice from a DataFrame\n",
            "\n",
            "See the caveats in the documentation: https://pandas.pydata.org/pandas-docs/stable/user_guide/indexing.html#returning-a-view-versus-a-copy\n",
            "  errors=errors,\n"
          ],
          "name": "stderr"
        }
      ]
    },
    {
      "cell_type": "code",
      "metadata": {
        "id": "WGdexY3UxlAN",
        "outputId": "4eed163a-7ce0-479d-99fe-c65aad211f3b",
        "colab": {
          "base_uri": "https://localhost:8080/",
          "height": 334
        }
      },
      "source": [
        "n_users_before = ratings['user'].nunique()\n",
        "n_products_before = ratings['item'].nunique()\n",
        "\n",
        "n_users = ratings_['user'].nunique()\n",
        "n_products = ratings_['item'].nunique()\n",
        "\n",
        "users_reduction_percentage = 1 - (n_users / n_users_before)\n",
        "products_reduction_percentage = 1 - (n_products / n_products_before)\n",
        "\n",
        "print(f'NUMBER OF USERS: {n_users} (was {n_users_before}) - a reduction of {users_reduction_percentage*100}%')\n",
        "print(f'NUMBER OF PRODUCTS: {n_products} (was {n_products_before}) - a reduction of {products_reduction_percentage*100}%')\n",
        "print(f'NUMBER OF RATINGS: {len(ratings_)} (was {len(ratings)})')\n",
        "\n",
        "ratings_.plot(kind='hist')"
      ],
      "execution_count": null,
      "outputs": [
        {
          "output_type": "stream",
          "text": [
            "NUMBER OF USERS: 1540 (was 4201696) - a reduction of 99.963348133706%\n",
            "NUMBER OF PRODUCTS: 48190 (was 476002) - a reduction of 89.87609295759262%\n",
            "NUMBER OF RATINGS: 125871 (was 7824482)\n"
          ],
          "name": "stdout"
        },
        {
          "output_type": "execute_result",
          "data": {
            "text/plain": [
              "<matplotlib.axes._subplots.AxesSubplot at 0x7f6c90d9e7f0>"
            ]
          },
          "metadata": {
            "tags": []
          },
          "execution_count": 55
        },
        {
          "output_type": "display_data",
          "data": {
            "image/png": "[encoded data removed]",
            "text/plain": [
              "<Figure size 432x288 with 1 Axes>"
            ]
          },
          "metadata": {
            "tags": [],
            "needs_background": "light"
          }
        }
      ]
    },
    {
      "cell_type": "markdown",
      "metadata": {
        "id": "5q-bH-7eXUOp"
      },
      "source": [
        "If the data is pre-processed and saved in drive, load it."
      ]
    },
    {
      "cell_type": "code",
      "metadata": {
        "id": "f41oTV575zvt"
      },
      "source": [
        "ratings = pd.read_csv(DRIVE_PATH + '/data/final.csv', header=0)"
      ],
      "execution_count": null,
      "outputs": []
    },
    {
      "cell_type": "code",
      "metadata": {
        "id": "hdAp7A4ZyZyw",
        "outputId": "20435278-84ee-4094-e017-e937c9ad9520",
        "colab": {
          "base_uri": "https://localhost:8080/",
          "height": 206
        }
      },
      "source": [
        "ratings.head()"
      ],
      "execution_count": null,
      "outputs": [
        {
          "output_type": "execute_result",
          "data": {
            "text/html": [
              "<div>\n",
              "<style scoped>\n",
              "    .dataframe tbody tr th:only-of-type {\n",
              "        vertical-align: middle;\n",
              "    }\n",
              "\n",
              "    .dataframe tbody tr th {\n",
              "        vertical-align: top;\n",
              "    }\n",
              "\n",
              "    .dataframe thead th {\n",
              "        text-align: right;\n",
              "    }\n",
              "</style>\n",
              "<table border=\"1\" class=\"dataframe\">\n",
              "  <thead>\n",
              "    <tr style=\"text-align: right;\">\n",
              "      <th></th>\n",
              "      <th>user</th>\n",
              "      <th>item</th>\n",
              "      <th>overall</th>\n",
              "    </tr>\n",
              "  </thead>\n",
              "  <tbody>\n",
              "    <tr>\n",
              "      <th>0</th>\n",
              "      <td>A3BY5KCNQZXV5U</td>\n",
              "      <td>0594451647</td>\n",
              "      <td>5.0</td>\n",
              "    </tr>\n",
              "    <tr>\n",
              "      <th>1</th>\n",
              "      <td>A3BY5KCNQZXV5U</td>\n",
              "      <td>B00000JD4V</td>\n",
              "      <td>4.0</td>\n",
              "    </tr>\n",
              "    <tr>\n",
              "      <th>2</th>\n",
              "      <td>A3BY5KCNQZXV5U</td>\n",
              "      <td>B000063574</td>\n",
              "      <td>5.0</td>\n",
              "    </tr>\n",
              "    <tr>\n",
              "      <th>3</th>\n",
              "      <td>A3BY5KCNQZXV5U</td>\n",
              "      <td>B0000CDJP8</td>\n",
              "      <td>5.0</td>\n",
              "    </tr>\n",
              "    <tr>\n",
              "      <th>4</th>\n",
              "      <td>A3BY5KCNQZXV5U</td>\n",
              "      <td>B0007Y794O</td>\n",
              "      <td>5.0</td>\n",
              "    </tr>\n",
              "  </tbody>\n",
              "</table>\n",
              "</div>"
            ],
            "text/plain": [
              "             user        item  overall\n",
              "0  A3BY5KCNQZXV5U  0594451647      5.0\n",
              "1  A3BY5KCNQZXV5U  B00000JD4V      4.0\n",
              "2  A3BY5KCNQZXV5U  B000063574      5.0\n",
              "3  A3BY5KCNQZXV5U  B0000CDJP8      5.0\n",
              "4  A3BY5KCNQZXV5U  B0007Y794O      5.0"
            ]
          },
          "metadata": {
            "tags": []
          },
          "execution_count": 14
        }
      ]
    },
    {
      "cell_type": "markdown",
      "metadata": {
        "id": "jGroU_ZoXeS1"
      },
      "source": [
        "### SCIKIT-SURPRISE-BASED DATASET"
      ]
    },
    {
      "cell_type": "code",
      "metadata": {
        "id": "Fn7hG5FmWhEV",
        "outputId": "9befeff6-6391-4928-a95d-26575930d0b2",
        "colab": {
          "base_uri": "https://localhost:8080/",
          "height": 206
        }
      },
      "source": [
        "from sklearn.model_selection import train_test_split as tts\n",
        "\n",
        "# Load data.\n",
        "df = pd.read_csv(DRIVE_PATH + '/data/final.csv', header=0)\n",
        "df['timestamp'] = 0\n",
        "\n",
        "# Split training and testing set.\n",
        "train, test = tts(df, test_size=0.2, random_state=SEED)\n",
        "\n",
        "data_reader = Dataset(Reader())\n",
        "train_set = data_reader.construct_trainset(train.values)\n",
        "test_set = data_reader.construct_testset(test.values)\n",
        "\n",
        "surprise_df = Dataset.load_from_df(df.drop(columns=['timestamp']), Reader())\n",
        "# train_set, test_set = train_test_split(surprise_df, test_size=0.2, random_state=SEED)\n",
        "train.head()"
      ],
      "execution_count": null,
      "outputs": [
        {
          "output_type": "execute_result",
          "data": {
            "text/html": [
              "<div>\n",
              "<style scoped>\n",
              "    .dataframe tbody tr th:only-of-type {\n",
              "        vertical-align: middle;\n",
              "    }\n",
              "\n",
              "    .dataframe tbody tr th {\n",
              "        vertical-align: top;\n",
              "    }\n",
              "\n",
              "    .dataframe thead th {\n",
              "        text-align: right;\n",
              "    }\n",
              "</style>\n",
              "<table border=\"1\" class=\"dataframe\">\n",
              "  <thead>\n",
              "    <tr style=\"text-align: right;\">\n",
              "      <th></th>\n",
              "      <th>user</th>\n",
              "      <th>item</th>\n",
              "      <th>overall</th>\n",
              "      <th>timestamp</th>\n",
              "    </tr>\n",
              "  </thead>\n",
              "  <tbody>\n",
              "    <tr>\n",
              "      <th>10563</th>\n",
              "      <td>AZMY6E8B52L2T</td>\n",
              "      <td>B00A1EQ950</td>\n",
              "      <td>5.0</td>\n",
              "      <td>0</td>\n",
              "    </tr>\n",
              "    <tr>\n",
              "      <th>122133</th>\n",
              "      <td>A2NN1KIYEM2SKS</td>\n",
              "      <td>B007FNF5IC</td>\n",
              "      <td>5.0</td>\n",
              "      <td>0</td>\n",
              "    </tr>\n",
              "    <tr>\n",
              "      <th>5431</th>\n",
              "      <td>A250AXLRBVYKB4</td>\n",
              "      <td>B001ISK6HK</td>\n",
              "      <td>4.0</td>\n",
              "      <td>0</td>\n",
              "    </tr>\n",
              "    <tr>\n",
              "      <th>27899</th>\n",
              "      <td>APQQK1V695AUE</td>\n",
              "      <td>B00015H0Z2</td>\n",
              "      <td>5.0</td>\n",
              "      <td>0</td>\n",
              "    </tr>\n",
              "    <tr>\n",
              "      <th>65166</th>\n",
              "      <td>A23NSKTMSPPBTR</td>\n",
              "      <td>B000068O3C</td>\n",
              "      <td>5.0</td>\n",
              "      <td>0</td>\n",
              "    </tr>\n",
              "  </tbody>\n",
              "</table>\n",
              "</div>"
            ],
            "text/plain": [
              "                  user        item  overall  timestamp\n",
              "10563    AZMY6E8B52L2T  B00A1EQ950      5.0          0\n",
              "122133  A2NN1KIYEM2SKS  B007FNF5IC      5.0          0\n",
              "5431    A250AXLRBVYKB4  B001ISK6HK      4.0          0\n",
              "27899    APQQK1V695AUE  B00015H0Z2      5.0          0\n",
              "65166   A23NSKTMSPPBTR  B000068O3C      5.0          0"
            ]
          },
          "metadata": {
            "tags": []
          },
          "execution_count": 8
        }
      ]
    },
    {
      "cell_type": "markdown",
      "metadata": {
        "id": "RAm6-X1dXGKy"
      },
      "source": [
        "### SPARK-BASED DATASET"
      ]
    },
    {
      "cell_type": "code",
      "metadata": {
        "id": "krNgl83GXrZc",
        "outputId": "f2c4550f-0508-4f0e-aa29-6775c4263678",
        "colab": {
          "base_uri": "https://localhost:8080/",
          "height": 469
        }
      },
      "source": [
        "# Load from CSV and use StringIndexer to fit and transform on the raw data\n",
        "schema = StructType([\n",
        "    StructField(\"user\", StringType()),\n",
        "    StructField(\"item\", StringType()),\n",
        "    StructField(\"overall\", FloatType())])\n",
        "ps_raw_data = spark.read.load(DRIVE_PATH + '/data/final.csv', format='csv', header=True, schema=schema)\n",
        "\n",
        "# index all columns except \"overall\"\n",
        "indexer = [StringIndexer(inputCol=column, outputCol=column + \"_index\") for column in\n",
        "               list(set(ps_raw_data.columns) - {'overall'})]\n",
        "\n",
        "pipeline = Pipeline(stages=indexer)\n",
        "ps_data = pipeline.fit(ps_raw_data).transform(ps_raw_data)\n",
        "\n",
        "ps_train_set, ps_test_set  = ps_data.randomSplit([0.8, 0.2], seed=42)\n",
        "ps_train_set.show()"
      ],
      "execution_count": null,
      "outputs": [
        {
          "output_type": "stream",
          "text": [
            "+--------------+----------+-------+----------+----------+\n",
            "|          user|      item|overall|item_index|user_index|\n",
            "+--------------+----------+-------+----------+----------+\n",
            "|A100UD67AHFODS|B00004Z5M1|    5.0|    1086.0|     179.0|\n",
            "|A100UD67AHFODS|B00005T3X7|    5.0|   18254.0|     179.0|\n",
            "|A100UD67AHFODS|B000069JWX|    1.0|   10680.0|     179.0|\n",
            "|A100UD67AHFODS|B0000AR0I4|    5.0|   19828.0|     179.0|\n",
            "|A100UD67AHFODS|B0001D3K8A|    5.0|    1681.0|     179.0|\n",
            "|A100UD67AHFODS|B0002HJGUQ|    5.0|   20807.0|     179.0|\n",
            "|A100UD67AHFODS|B0002SQ2P2|    5.0|     686.0|     179.0|\n",
            "|A100UD67AHFODS|B000ERAOL4|    5.0|   23078.0|     179.0|\n",
            "|A100UD67AHFODS|B000H0K8VY|    5.0|    7990.0|     179.0|\n",
            "|A100UD67AHFODS|B000HZDF8W|    5.0|     844.0|     179.0|\n",
            "|A100UD67AHFODS|B000LRMS66|    5.0|      38.0|     179.0|\n",
            "|A100UD67AHFODS|B000OMKR8E|    2.0|    2750.0|     179.0|\n",
            "|A100UD67AHFODS|B000Q8UAWY|    5.0|      56.0|     179.0|\n",
            "|A100UD67AHFODS|B000QSOP0M|    5.0|   12284.0|     179.0|\n",
            "|A100UD67AHFODS|B000RYS3S0|    3.0|   12312.0|     179.0|\n",
            "|A100UD67AHFODS|B000U0S304|    5.0|    6115.0|     179.0|\n",
            "|A100UD67AHFODS|B000VZS2FY|    3.0|   26075.0|     179.0|\n",
            "|A100UD67AHFODS|B00108UNEY|    5.0|    3979.0|     179.0|\n",
            "|A100UD67AHFODS|B00113XADE|    5.0|    4877.0|     179.0|\n",
            "|A100UD67AHFODS|B00133BAKM|    5.0|    6204.0|     179.0|\n",
            "+--------------+----------+-------+----------+----------+\n",
            "only showing top 20 rows\n",
            "\n"
          ],
          "name": "stdout"
        }
      ]
    },
    {
      "cell_type": "markdown",
      "metadata": {
        "id": "N2nCyuQ83lz4"
      },
      "source": [
        "## MODELING"
      ]
    },
    {
      "cell_type": "markdown",
      "metadata": {
        "id": "4uGpKHEEX5vM"
      },
      "source": [
        "### SCIKIT-SURPRISE MODELS"
      ]
    },
    {
      "cell_type": "code",
      "metadata": {
        "id": "oByLus9-262d"
      },
      "source": [
        "import time\n",
        "from collections import defaultdict\n",
        "from surprise.model_selection import cross_validate\n",
        "\n",
        "def cross_validate_all(models, dataset):\n",
        "  results = []\n",
        "\n",
        "  for model_name, model in models:\n",
        "    cv_results = cross_validate(model, dataset, n_jobs=-1)\n",
        "    results.append((model_name, cv_results['test_rmse'].mean(), cv_results['test_mae'].mean()))\n",
        "\n",
        "  return results\n",
        "\n",
        "def train_and_test_all(models, train_set, test_set):\n",
        "  results = []\n",
        "  trained_models = []\n",
        "\n",
        "  for model_name, model in models:\n",
        "    start = time.time()\n",
        "    # train the model\n",
        "    model.fit(train_set)\n",
        "    # record the time it took\n",
        "    end = time.time() - start\n",
        "\n",
        "    predictions = model.test(test_set)\n",
        "\n",
        "    results.append((model_name, end, rmse(predictions), mae(predictions)))\n",
        "    trained_models.append((model, predictions))\n",
        "\n",
        "  return results, trained_models"
      ],
      "execution_count": null,
      "outputs": []
    },
    {
      "cell_type": "code",
      "metadata": {
        "id": "_jxnaGZ142AZ"
      },
      "source": [
        "from surprise import KNNWithMeans\n",
        "\n",
        "models = [\n",
        "          ('User-based KNN', KNNWithMeans(k=35, sim_options={'name': 'pearson'}, user_based=True, min_support=5)),\n",
        "          ('Item-based KNN', KNNWithMeans(k=43, sim_options={'name': 'cosine'}, user_based=False, min_support=4)),\n",
        "]"
      ],
      "execution_count": null,
      "outputs": []
    },
    {
      "cell_type": "code",
      "metadata": {
        "id": "Y--XbteP-6DB",
        "outputId": "743575d9-eed4-44ed-f27a-f09f395ac9e6",
        "colab": {
          "base_uri": "https://localhost:8080/",
          "height": 156
        }
      },
      "source": [
        "rmse_and_mae, trained_models = train_and_test_all(models, train_set, test_set)"
      ],
      "execution_count": null,
      "outputs": [
        {
          "output_type": "stream",
          "text": [
            "Computing the pearson similarity matrix...\n",
            "Done computing similarity matrix.\n",
            "RMSE: 1.0448\n",
            "MAE:  0.7741\n",
            "Computing the cosine similarity matrix...\n",
            "Done computing similarity matrix.\n",
            "RMSE: 1.0563\n",
            "MAE:  0.7617\n"
          ],
          "name": "stdout"
        }
      ]
    },
    {
      "cell_type": "code",
      "metadata": {
        "id": "S8LtTUAl__Kf"
      },
      "source": [
        "# Save all the models.\n",
        "user_based_knn, item_based_knn = trained_models"
      ],
      "execution_count": null,
      "outputs": []
    },
    {
      "cell_type": "code",
      "metadata": {
        "id": "muEXphDmojtg"
      },
      "source": [
        "from surprise import dump\n",
        "dump.dump(file_name=DRIVE_PATH + '/model/u-knn', algo=user_based_knn[0], predictions=user_based_knn[1])\n",
        "dump.dump(file_name=DRIVE_PATH + '/model/i-knn', algo=item_based_knn[0], predictions=item_based_knn[1])\n",
        "# dump.dump(file_name=DRIVE_PATH + '/model/in-svd', algo=svd[0], predictions=svd[1])"
      ],
      "execution_count": null,
      "outputs": []
    },
    {
      "cell_type": "markdown",
      "metadata": {
        "id": "TH_vEbR6YDmg"
      },
      "source": [
        "### SPARK-BASED MODELS"
      ]
    },
    {
      "cell_type": "code",
      "metadata": {
        "id": "uQTLkLkqYC5C"
      },
      "source": [
        "# create model\n",
        "als = ALS(userCol='user_index', itemCol='item_index', ratingCol='overall', coldStartStrategy='drop', nonnegative=True)\n",
        "als.setParams(maxIter=100, alpha=0.01, seed=SEED, intermediateStorageLevel='DISK_ONLY', checkpointInterval=2)\n",
        "\n",
        "start = time.time()\n",
        "# fit on train set\n",
        "als_model = als.fit(ps_train_set)\n",
        "end = time.time() - start\n",
        "\n",
        "als_predictions = als_model.transform(ps_test_set)\n",
        "\n",
        "# ALS model\n",
        "evaluator = RegressionEvaluator(metricName='rmse', labelCol='overall', predictionCol='prediction')\n",
        "als_rmse = evaluator.evaluate(als_predictions)\n",
        "\n",
        "evaluator = RegressionEvaluator(metricName='mae', labelCol='overall', predictionCol='prediction')\n",
        "als_mae = evaluator.evaluate(als_predictions)\n",
        "\n",
        "# Append to final result\n",
        "rmse_and_mae.append(('ALS', end, als_rmse, als_mae))\n",
        "\n",
        "als_predictions.show()"
      ],
      "execution_count": null,
      "outputs": []
    },
    {
      "cell_type": "code",
      "metadata": {
        "id": "950XxbjNaBUc"
      },
      "source": [
        "# Save model\n",
        "als_model.save(DRIVE_PATH + '/model/als')"
      ],
      "execution_count": null,
      "outputs": []
    },
    {
      "cell_type": "code",
      "metadata": {
        "id": "4SW1J5UfyHWh"
      },
      "source": [
        "# Save predictions\n",
        "als_predictions.toPandas().to_csv(DRIVE_PATH + '/data/dataframe/ALS_preds.csv', index=False)"
      ],
      "execution_count": null,
      "outputs": []
    },
    {
      "cell_type": "markdown",
      "metadata": {
        "id": "x-NDYuFCqyHZ"
      },
      "source": [
        "### INCREMENTAL SVD"
      ]
    },
    {
      "cell_type": "code",
      "metadata": {
        "id": "NF16x3NYq1e9"
      },
      "source": [
        "train_copy, test_copy = train.copy(), test.copy()\n",
        "columns = ['u_id', 'i_id', 'rating', 'timestamp']\n",
        "train_copy.columns = columns\n",
        "test_copy.columns = columns\n",
        "\n",
        "isvd = ISVD(learning_rate=.1, regularization=.02, n_epochs=50, n_factors=200)"
      ],
      "execution_count": null,
      "outputs": []
    },
    {
      "cell_type": "code",
      "metadata": {
        "id": "8pJL7y6ksr1j",
        "outputId": "3c5b3527-743d-4c32-aed1-5228f16483c2",
        "colab": {
          "base_uri": "https://localhost:8080/",
          "height": 955
        }
      },
      "source": [
        "start = time.time()\n",
        "isvd.fit(X=train_copy)\n",
        "end = time.time() - start\n",
        "\n",
        "from sklearn.metrics import mean_absolute_error, mean_squared_error\n",
        "\n",
        "preds = isvd.predict(test_copy)\n",
        "svd_mae = mean_absolute_error(test_copy['rating'], preds)\n",
        "svd_rmse = np.sqrt(mean_squared_error(test_copy['rating'], preds))"
      ],
      "execution_count": null,
      "outputs": [
        {
          "output_type": "stream",
          "text": [
            "Preprocessing data...\n",
            "\n",
            "Epoch 1/50  | took 0.4 sec\n",
            "Epoch 2/50  | took 0.0 sec\n",
            "Epoch 3/50  | took 0.0 sec\n",
            "Epoch 4/50  | took 0.0 sec\n",
            "Epoch 5/50  | took 0.0 sec\n",
            "Epoch 6/50  | took 0.0 sec\n",
            "Epoch 7/50  | took 0.0 sec\n",
            "Epoch 8/50  | took 0.0 sec\n",
            "Epoch 9/50  | took 0.0 sec\n",
            "Epoch 10/50 | took 0.0 sec\n",
            "Epoch 11/50 | took 0.0 sec\n",
            "Epoch 12/50 | took 0.0 sec\n",
            "Epoch 13/50 | took 0.0 sec\n",
            "Epoch 14/50 | took 0.0 sec\n",
            "Epoch 15/50 | took 0.0 sec\n",
            "Epoch 16/50 | took 0.0 sec\n",
            "Epoch 17/50 | took 0.0 sec\n",
            "Epoch 18/50 | took 0.0 sec\n",
            "Epoch 19/50 | took 0.0 sec\n",
            "Epoch 20/50 | took 0.0 sec\n",
            "Epoch 21/50 | took 0.0 sec\n",
            "Epoch 22/50 | took 0.0 sec\n",
            "Epoch 23/50 | took 0.0 sec\n",
            "Epoch 24/50 | took 0.0 sec\n",
            "Epoch 25/50 | took 0.0 sec\n",
            "Epoch 26/50 | took 0.1 sec\n",
            "Epoch 27/50 | took 0.0 sec\n",
            "Epoch 28/50 | took 0.0 sec\n",
            "Epoch 29/50 | took 0.1 sec\n",
            "Epoch 30/50 | took 0.0 sec\n",
            "Epoch 31/50 | took 0.0 sec\n",
            "Epoch 32/50 | took 0.0 sec\n",
            "Epoch 33/50 | took 0.0 sec\n",
            "Epoch 34/50 | took 0.0 sec\n",
            "Epoch 35/50 | took 0.0 sec\n",
            "Epoch 36/50 | took 0.0 sec\n",
            "Epoch 37/50 | took 0.1 sec\n",
            "Epoch 38/50 | took 0.0 sec\n",
            "Epoch 39/50 | took 0.0 sec\n",
            "Epoch 40/50 | took 0.0 sec\n",
            "Epoch 41/50 | took 0.0 sec\n",
            "Epoch 42/50 | took 0.0 sec\n",
            "Epoch 43/50 | took 0.0 sec\n",
            "Epoch 44/50 | took 0.0 sec\n",
            "Epoch 45/50 | took 0.0 sec\n",
            "Epoch 46/50 | took 0.0 sec\n",
            "Epoch 47/50 | took 0.0 sec\n",
            "Epoch 48/50 | took 0.0 sec\n",
            "Epoch 49/50 | took 0.0 sec\n",
            "Epoch 50/50 | took 0.0 sec\n",
            "\n",
            "Training took 4 sec\n"
          ],
          "name": "stdout"
        }
      ]
    },
    {
      "cell_type": "code",
      "metadata": {
        "id": "Cm6YfZrDyeIx",
        "outputId": "a1309787-1a13-400f-cd8a-7cc9290aa5df",
        "colab": {
          "base_uri": "https://localhost:8080/",
          "height": 243
        }
      },
      "source": [
        "rmse_and_mae.append(('IncrementalSVD', end, svd_rmse, svd_mae))\n",
        "rmse_and_mae"
      ],
      "execution_count": null,
      "outputs": [
        {
          "output_type": "execute_result",
          "data": {
            "text/plain": [
              "[('User-based KNN',\n",
              "  1.0890514850616455,\n",
              "  1.0447625302831895,\n",
              "  0.7740741189302912),\n",
              " ('Item-based KNN',\n",
              "  0.7433826923370361,\n",
              "  1.0562669359478067,\n",
              "  0.7617150166982444),\n",
              " ('ALS', 187.59135150909424, 1.205340698730339, 0.9281394223358476),\n",
              " ('IncrementalSVD',\n",
              "  3.8915135860443115,\n",
              "  0.9849554618129648,\n",
              "  0.7273880133657391)]"
            ]
          },
          "metadata": {
            "tags": []
          },
          "execution_count": 21
        }
      ]
    },
    {
      "cell_type": "code",
      "metadata": {
        "id": "41JiLwMyZ64c"
      },
      "source": [
        "pd.DataFrame(rmse_and_mae, columns=['Algorithm', 'Time Training', 'RMSE', 'MAE']).to_csv(DRIVE_PATH + '/data/dataframe/Prediction_Accuracy.csv', index=False)"
      ],
      "execution_count": null,
      "outputs": []
    },
    {
      "cell_type": "code",
      "metadata": {
        "id": "azKkL32IvfM6",
        "outputId": "83cc8453-809f-4a17-c1c4-ed81e94ad32b",
        "colab": {
          "base_uri": "https://localhost:8080/",
          "height": 206
        }
      },
      "source": [
        "# Turn predictions into dataframe and map with the test set\n",
        "assert isvd.predict_pair(test_copy.iloc[0]['u_id'], test_copy.iloc[0]['i_id']) == preds[0]\n",
        "\n",
        "test_copy['prediction'] = preds\n",
        "test_copy.head()"
      ],
      "execution_count": null,
      "outputs": [
        {
          "output_type": "execute_result",
          "data": {
            "text/html": [
              "<div>\n",
              "<style scoped>\n",
              "    .dataframe tbody tr th:only-of-type {\n",
              "        vertical-align: middle;\n",
              "    }\n",
              "\n",
              "    .dataframe tbody tr th {\n",
              "        vertical-align: top;\n",
              "    }\n",
              "\n",
              "    .dataframe thead th {\n",
              "        text-align: right;\n",
              "    }\n",
              "</style>\n",
              "<table border=\"1\" class=\"dataframe\">\n",
              "  <thead>\n",
              "    <tr style=\"text-align: right;\">\n",
              "      <th></th>\n",
              "      <th>u_id</th>\n",
              "      <th>i_id</th>\n",
              "      <th>rating</th>\n",
              "      <th>timestamp</th>\n",
              "      <th>prediction</th>\n",
              "    </tr>\n",
              "  </thead>\n",
              "  <tbody>\n",
              "    <tr>\n",
              "      <th>127</th>\n",
              "      <td>AT09WGFUM934H</td>\n",
              "      <td>B009OBCAW2</td>\n",
              "      <td>5.0</td>\n",
              "      <td>0</td>\n",
              "      <td>4.658039</td>\n",
              "    </tr>\n",
              "    <tr>\n",
              "      <th>48274</th>\n",
              "      <td>A2FXBWR4T4OFQ</td>\n",
              "      <td>B002W3IXZW</td>\n",
              "      <td>3.0</td>\n",
              "      <td>0</td>\n",
              "      <td>4.912076</td>\n",
              "    </tr>\n",
              "    <tr>\n",
              "      <th>52001</th>\n",
              "      <td>A11KQADBYE0UZL</td>\n",
              "      <td>B005F77Z9C</td>\n",
              "      <td>5.0</td>\n",
              "      <td>0</td>\n",
              "      <td>4.517450</td>\n",
              "    </tr>\n",
              "    <tr>\n",
              "      <th>24210</th>\n",
              "      <td>A313H6238N589</td>\n",
              "      <td>B000HPV3RW</td>\n",
              "      <td>5.0</td>\n",
              "      <td>0</td>\n",
              "      <td>4.379199</td>\n",
              "    </tr>\n",
              "    <tr>\n",
              "      <th>51058</th>\n",
              "      <td>A3IOQ7NVVLAUEE</td>\n",
              "      <td>B000FU4Z24</td>\n",
              "      <td>5.0</td>\n",
              "      <td>0</td>\n",
              "      <td>4.186522</td>\n",
              "    </tr>\n",
              "  </tbody>\n",
              "</table>\n",
              "</div>"
            ],
            "text/plain": [
              "                 u_id        i_id  rating  timestamp  prediction\n",
              "127     AT09WGFUM934H  B009OBCAW2     5.0          0    4.658039\n",
              "48274   A2FXBWR4T4OFQ  B002W3IXZW     3.0          0    4.912076\n",
              "52001  A11KQADBYE0UZL  B005F77Z9C     5.0          0    4.517450\n",
              "24210   A313H6238N589  B000HPV3RW     5.0          0    4.379199\n",
              "51058  A3IOQ7NVVLAUEE  B000FU4Z24     5.0          0    4.186522"
            ]
          },
          "metadata": {
            "tags": []
          },
          "execution_count": 144
        }
      ]
    },
    {
      "cell_type": "code",
      "metadata": {
        "id": "3WAdQsnAt0EK"
      },
      "source": [
        "save_model(DRIVE_PATH + '/model/funk-svd', trainset=train_copy, model=isvd, predictions=test_copy.drop(columns='timestamp'))"
      ],
      "execution_count": null,
      "outputs": []
    },
    {
      "cell_type": "markdown",
      "metadata": {
        "id": "0Cb9dl_cHtFu"
      },
      "source": [
        "## LOAD ALL MODELS"
      ]
    },
    {
      "cell_type": "code",
      "metadata": {
        "id": "D8puKeuKaas7"
      },
      "source": [
        "# Load models\n",
        "uknn_recsys = Recommender(DRIVE_PATH + '/model/u-knn')\n",
        "iknn_recsys = Recommender(DRIVE_PATH + '/model/i-knn')"
      ],
      "execution_count": null,
      "outputs": []
    },
    {
      "cell_type": "code",
      "metadata": {
        "id": "8wZ4LKsbiChH"
      },
      "source": [
        "als_recsys = ALSModel.load(DRIVE_PATH + '/model/als')"
      ],
      "execution_count": null,
      "outputs": []
    },
    {
      "cell_type": "code",
      "metadata": {
        "id": "AtQuph663jjy"
      },
      "source": [
        "svd_recsys = RecSys(DRIVE_PATH + '/model/funk-svd')"
      ],
      "execution_count": null,
      "outputs": []
    },
    {
      "cell_type": "markdown",
      "metadata": {
        "id": "_p318-DyYW2g"
      },
      "source": [
        "## EVALUATION"
      ]
    },
    {
      "cell_type": "code",
      "metadata": {
        "id": "_XjKusIuCD16"
      },
      "source": [
        "from surprise.accuracy import rmse, mae\n",
        "\n",
        "def precision_and_recall_all(recommenders, ks):\n",
        "  rs = []\n",
        "\n",
        "  for name, recommender in recommenders:\n",
        "    for k in ks:\n",
        "      precision, recall = recommender.compute_precision_recall_at_k(k ,3.0)\n",
        "      rs.append((name, k, precision, recall, recommender.compute_f1()))  \n",
        "  return rs\n",
        "\n",
        "def rmse_and_mae_all(recommenders):\n",
        "  accuracy_results = []\n",
        "\n",
        "  for name, recommender in recommenders:\n",
        "    accuracy_results.append((name, rmse(recommender.predictions), mae(recommender.predictions)))\n",
        "\n",
        "  return accuracy_results\n",
        "    "
      ],
      "execution_count": null,
      "outputs": []
    },
    {
      "cell_type": "code",
      "metadata": {
        "id": "RoGJfdAxrcHj"
      },
      "source": [
        "# Scikit-surprise models\n",
        "\n",
        "recommenders = [\n",
        "                ('User-based KNN', uknn_recsys),\n",
        "                ('Item-based KNN', iknn_recsys),\n",
        "]"
      ],
      "execution_count": null,
      "outputs": []
    },
    {
      "cell_type": "markdown",
      "metadata": {
        "id": "YlqsH-ffZzne"
      },
      "source": [
        "### RMSE, MAE"
      ]
    },
    {
      "cell_type": "code",
      "metadata": {
        "id": "Mke8PBMpTHKG",
        "outputId": "8875c948-8183-4425-82ef-cd3cf7e15708",
        "colab": {
          "base_uri": "https://localhost:8080/",
          "height": 86
        }
      },
      "source": [
        "rmse_and_mae = rmse_and_mae_all(recommenders)"
      ],
      "execution_count": null,
      "outputs": [
        {
          "output_type": "stream",
          "text": [
            "RMSE: 1.0448\n",
            "MAE:  0.7741\n",
            "RMSE: 1.0563\n",
            "MAE:  0.7617\n"
          ],
          "name": "stdout"
        }
      ]
    },
    {
      "cell_type": "code",
      "metadata": {
        "id": "skrPOde26Got"
      },
      "source": [
        "import numpy as np\n",
        "from sklearn.metrics import mean_squared_error, mean_absolute_error\n",
        "\n",
        "# Incremental SVD\n",
        "isvd_preds = svd_recsys.predictions['prediction'].values\n",
        "isvd_true = svd_recsys.predictions['rating'].values\n",
        "isvd_rmse = np.sqrt(mean_squared_error(isvd_true, isvd_preds))\n",
        "isvd_mae = mean_absolute_error(isvd_true, isvd_preds)\n",
        "\n",
        "rmse_and_mae.append(('IncrementalSVD', isvd_rmse, isvd_mae))"
      ],
      "execution_count": null,
      "outputs": []
    },
    {
      "cell_type": "code",
      "metadata": {
        "id": "U-hkSPf9Z1dc"
      },
      "source": [
        "# ALS model\n",
        "als_preds = als_recsys.transform(ps_test_set)\n",
        "\n",
        "evaluator = RegressionEvaluator(metricName='rmse', labelCol='overall', predictionCol='prediction')\n",
        "als_rmse = evaluator.evaluate(als_preds)\n",
        "\n",
        "evaluator = RegressionEvaluator(metricName='mae', labelCol='overall', predictionCol='prediction')\n",
        "als_mae = evaluator.evaluate(als_preds)\n",
        "\n",
        "# Append to final result\n",
        "rmse_and_mae.append(('ALS', als_rmse, als_mae))"
      ],
      "execution_count": null,
      "outputs": []
    },
    {
      "cell_type": "code",
      "metadata": {
        "id": "0GyOTFBwffPf",
        "outputId": "1534d71d-b8e1-414f-d9bb-0a826f888026",
        "colab": {
          "base_uri": "https://localhost:8080/",
          "height": 112
        }
      },
      "source": [
        "rmse_and_mae_df = pd.DataFrame(rmse_and_mae, columns=['Algorithm', 'RMSE', 'MAE'])\n",
        "rmse_and_mae_ = rmse_and_mae_df.melt('Algorithm', var_name='Metric', value_name='Value')\n",
        "rmse_and_mae_df.set_index(['RMSE', 'MAE']).T.reset_index(drop=True)"
      ],
      "execution_count": null,
      "outputs": [
        {
          "output_type": "execute_result",
          "data": {
            "text/html": [
              "<div>\n",
              "<style scoped>\n",
              "    .dataframe tbody tr th:only-of-type {\n",
              "        vertical-align: middle;\n",
              "    }\n",
              "\n",
              "    .dataframe tbody tr th {\n",
              "        vertical-align: top;\n",
              "    }\n",
              "\n",
              "    .dataframe thead tr th {\n",
              "        text-align: left;\n",
              "    }\n",
              "</style>\n",
              "<table border=\"1\" class=\"dataframe\">\n",
              "  <thead>\n",
              "    <tr>\n",
              "      <th>RMSE</th>\n",
              "      <th>1.044763</th>\n",
              "      <th>1.056267</th>\n",
              "      <th>0.985255</th>\n",
              "      <th>1.205341</th>\n",
              "    </tr>\n",
              "    <tr>\n",
              "      <th>MAE</th>\n",
              "      <th>0.774074</th>\n",
              "      <th>0.761715</th>\n",
              "      <th>0.727166</th>\n",
              "      <th>0.928139</th>\n",
              "    </tr>\n",
              "  </thead>\n",
              "  <tbody>\n",
              "    <tr>\n",
              "      <th>0</th>\n",
              "      <td>User-based KNN</td>\n",
              "      <td>Item-based KNN</td>\n",
              "      <td>IncrementalSVD</td>\n",
              "      <td>ALS</td>\n",
              "    </tr>\n",
              "  </tbody>\n",
              "</table>\n",
              "</div>"
            ],
            "text/plain": [
              "RMSE        1.044763        1.056267        0.985255 1.205341\n",
              "MAE         0.774074        0.761715        0.727166 0.928139\n",
              "0     User-based KNN  Item-based KNN  IncrementalSVD      ALS"
            ]
          },
          "metadata": {
            "tags": []
          },
          "execution_count": 49
        }
      ]
    },
    {
      "cell_type": "code",
      "metadata": {
        "id": "HuIvNp07fPu-"
      },
      "source": [
        "import matplotlib.pyplot as plt\n",
        "import seaborn as sns\n",
        "\n",
        "plt.figure(figsize=(10,5), dpi=1000)\n",
        "ax = plt.gca()\n",
        "\n",
        "sns.barplot(x='Algorithm', y='Value', hue='Metric', data=rmse_and_mae_)\n",
        "\n",
        "handles, labels = ax.get_legend_handles_labels()\n",
        "ax.legend(handles=handles[:], labels=labels[:], loc=1)\n",
        "ax.set_xlabel('')\n",
        "ax.set_ylabel(ax.get_ylabel(), size='x-large')"
      ],
      "execution_count": null,
      "outputs": []
    },
    {
      "cell_type": "code",
      "metadata": {
        "id": "QzOX7jWidPWc"
      },
      "source": [
        "als_preds.cache()\n",
        "als_preds.toPandas().to_csv(DRIVE_PATH + '/data/dataframe/als_preds_final.csv', index=False)"
      ],
      "execution_count": null,
      "outputs": []
    },
    {
      "cell_type": "markdown",
      "metadata": {
        "id": "d-13S0XNejas"
      },
      "source": [
        "### PRECISION@K, RECALL@K, F1@K"
      ]
    },
    {
      "cell_type": "code",
      "metadata": {
        "id": "-1p1DTXEem1c"
      },
      "source": [
        "p_and_r = precision_and_recall_all(recommenders, KS)"
      ],
      "execution_count": null,
      "outputs": []
    },
    {
      "cell_type": "code",
      "metadata": {
        "id": "0Dqbdd04AtN8",
        "outputId": "be864e35-2e98-4b01-a5cf-8ea0795cca00",
        "colab": {
          "base_uri": "https://localhost:8080/",
          "height": 364
        }
      },
      "source": [
        "p_and_r"
      ],
      "execution_count": null,
      "outputs": [
        {
          "output_type": "execute_result",
          "data": {
            "text/plain": [
              "[('User-based KNN',\n",
              "  5,\n",
              "  0.9274350649350586,\n",
              "  0.3866463187981956,\n",
              "  0.5457643007813832),\n",
              " ('User-based KNN',\n",
              "  10,\n",
              "  0.9208946608946635,\n",
              "  0.7081927469122221,\n",
              "  0.8006579835931067),\n",
              " ('Item-based KNN',\n",
              "  5,\n",
              "  0.9349999999999943,\n",
              "  0.3902254066501291,\n",
              "  0.5506395416009352),\n",
              " ('Item-based KNN',\n",
              "  10,\n",
              "  0.9267207792207814,\n",
              "  0.7093844619974837,\n",
              "  0.8036174016531032)]"
            ]
          },
          "metadata": {
            "tags": []
          },
          "execution_count": 37
        }
      ]
    },
    {
      "cell_type": "code",
      "metadata": {
        "id": "8f8hIutDctyk"
      },
      "source": [
        "from collections import defaultdict\n",
        "pred_df = pd.read_csv(DRIVE_PATH + '/data/dataframe/ALS_preds.csv', header=0)\n",
        "\n",
        "# ALS\n",
        "user_est = defaultdict(list)\n",
        "for index, row in pred_df.iterrows():\n",
        "    user_est[row.user].append((row.prediction, row.overall))\n",
        "\n",
        "for k in KS:\n",
        "  precision, recall, f1 = pyspark_precision_recall_at_k(user_est, k)\n",
        "  # Append to final result\n",
        "  p_and_r.append(('ALS',k, precision, recall, f1))"
      ],
      "execution_count": null,
      "outputs": []
    },
    {
      "cell_type": "code",
      "metadata": {
        "id": "hZgMIxEVNECp"
      },
      "source": [
        "from sklearn.metrics import precision_score, recall_score\n",
        "\n",
        "svd_recsys.predictions['extra'] = 0\n",
        "\n",
        "for k in KS:\n",
        "  precisions, recalls = prak(svd_recsys.predictions.values, k=k)\n",
        "  svd_precision = sum(prec for prec in precisions.values()) / len(precisions)\n",
        "  svd_recall = sum(rec for rec in recalls.values()) / len(recalls)\n",
        "  f1 = 2 * (svd_precision * svd_recall) / (svd_precision + svd_recall)\n",
        "  p_and_r.append(('Incremental SVD', k, svd_precision, svd_recall, f1))"
      ],
      "execution_count": null,
      "outputs": []
    },
    {
      "cell_type": "code",
      "metadata": {
        "id": "G5qqaI2RTegD"
      },
      "source": [
        "p_and_r_df = pd.DataFrame(p_and_r, columns=['Algorithm', 'M', 'Precision@M', 'Recall@M', 'F1@M'])"
      ],
      "execution_count": null,
      "outputs": []
    },
    {
      "cell_type": "code",
      "metadata": {
        "id": "HsUcsrRtBFJd",
        "outputId": "3cf2dd94-e45c-4ca3-89eb-c9e8a0f51c50",
        "colab": {
          "base_uri": "https://localhost:8080/",
          "height": 300
        }
      },
      "source": [
        "p_and_r_df"
      ],
      "execution_count": null,
      "outputs": [
        {
          "output_type": "execute_result",
          "data": {
            "text/html": [
              "<div>\n",
              "<style scoped>\n",
              "    .dataframe tbody tr th:only-of-type {\n",
              "        vertical-align: middle;\n",
              "    }\n",
              "\n",
              "    .dataframe tbody tr th {\n",
              "        vertical-align: top;\n",
              "    }\n",
              "\n",
              "    .dataframe thead th {\n",
              "        text-align: right;\n",
              "    }\n",
              "</style>\n",
              "<table border=\"1\" class=\"dataframe\">\n",
              "  <thead>\n",
              "    <tr style=\"text-align: right;\">\n",
              "      <th></th>\n",
              "      <th>Algorithm</th>\n",
              "      <th>M</th>\n",
              "      <th>Precision@M</th>\n",
              "      <th>Recall@M</th>\n",
              "      <th>F1@M</th>\n",
              "    </tr>\n",
              "  </thead>\n",
              "  <tbody>\n",
              "    <tr>\n",
              "      <th>0</th>\n",
              "      <td>User-based KNN</td>\n",
              "      <td>5</td>\n",
              "      <td>0.927435</td>\n",
              "      <td>0.386646</td>\n",
              "      <td>0.545764</td>\n",
              "    </tr>\n",
              "    <tr>\n",
              "      <th>1</th>\n",
              "      <td>User-based KNN</td>\n",
              "      <td>10</td>\n",
              "      <td>0.920895</td>\n",
              "      <td>0.708193</td>\n",
              "      <td>0.800658</td>\n",
              "    </tr>\n",
              "    <tr>\n",
              "      <th>2</th>\n",
              "      <td>Item-based KNN</td>\n",
              "      <td>5</td>\n",
              "      <td>0.935000</td>\n",
              "      <td>0.390225</td>\n",
              "      <td>0.550640</td>\n",
              "    </tr>\n",
              "    <tr>\n",
              "      <th>3</th>\n",
              "      <td>Item-based KNN</td>\n",
              "      <td>10</td>\n",
              "      <td>0.926721</td>\n",
              "      <td>0.709384</td>\n",
              "      <td>0.803617</td>\n",
              "    </tr>\n",
              "    <tr>\n",
              "      <th>4</th>\n",
              "      <td>ALS</td>\n",
              "      <td>5</td>\n",
              "      <td>0.922085</td>\n",
              "      <td>0.449436</td>\n",
              "      <td>0.604320</td>\n",
              "    </tr>\n",
              "    <tr>\n",
              "      <th>5</th>\n",
              "      <td>ALS</td>\n",
              "      <td>10</td>\n",
              "      <td>0.921528</td>\n",
              "      <td>0.705142</td>\n",
              "      <td>0.798943</td>\n",
              "    </tr>\n",
              "    <tr>\n",
              "      <th>6</th>\n",
              "      <td>Incremental SVD</td>\n",
              "      <td>5</td>\n",
              "      <td>0.941494</td>\n",
              "      <td>0.394250</td>\n",
              "      <td>0.555771</td>\n",
              "    </tr>\n",
              "    <tr>\n",
              "      <th>7</th>\n",
              "      <td>Incremental SVD</td>\n",
              "      <td>10</td>\n",
              "      <td>0.929839</td>\n",
              "      <td>0.718627</td>\n",
              "      <td>0.810702</td>\n",
              "    </tr>\n",
              "  </tbody>\n",
              "</table>\n",
              "</div>"
            ],
            "text/plain": [
              "         Algorithm   M  Precision@M  Recall@M      F1@M\n",
              "0   User-based KNN   5     0.927435  0.386646  0.545764\n",
              "1   User-based KNN  10     0.920895  0.708193  0.800658\n",
              "2   Item-based KNN   5     0.935000  0.390225  0.550640\n",
              "3   Item-based KNN  10     0.926721  0.709384  0.803617\n",
              "4              ALS   5     0.922085  0.449436  0.604320\n",
              "5              ALS  10     0.921528  0.705142  0.798943\n",
              "6  Incremental SVD   5     0.941494  0.394250  0.555771\n",
              "7  Incremental SVD  10     0.929839  0.718627  0.810702"
            ]
          },
          "metadata": {
            "tags": []
          },
          "execution_count": 41
        }
      ]
    },
    {
      "cell_type": "code",
      "metadata": {
        "id": "j3Hqkvrdr4k5",
        "outputId": "fa5ba92e-139f-4d38-df19-75b43ce8b7c4",
        "colab": {
          "base_uri": "https://localhost:8080/",
          "height": 551
        }
      },
      "source": [
        "p_and_r_df.to_csv(DRIVE_PATH + '/data/dataframe/Precision_Recall_M', index=False)\n",
        "p_and_r_df"
      ],
      "execution_count": null,
      "outputs": [
        {
          "output_type": "execute_result",
          "data": {
            "text/html": [
              "<div>\n",
              "<style scoped>\n",
              "    .dataframe tbody tr th:only-of-type {\n",
              "        vertical-align: middle;\n",
              "    }\n",
              "\n",
              "    .dataframe tbody tr th {\n",
              "        vertical-align: top;\n",
              "    }\n",
              "\n",
              "    .dataframe thead th {\n",
              "        text-align: right;\n",
              "    }\n",
              "</style>\n",
              "<table border=\"1\" class=\"dataframe\">\n",
              "  <thead>\n",
              "    <tr style=\"text-align: right;\">\n",
              "      <th></th>\n",
              "      <th>Algorithm</th>\n",
              "      <th>M</th>\n",
              "      <th>Precision@M</th>\n",
              "      <th>Recall@M</th>\n",
              "      <th>F1@M</th>\n",
              "    </tr>\n",
              "  </thead>\n",
              "  <tbody>\n",
              "    <tr>\n",
              "      <th>0</th>\n",
              "      <td>User-based KNN</td>\n",
              "      <td>5</td>\n",
              "      <td>0.927435</td>\n",
              "      <td>0.386646</td>\n",
              "      <td>0.545764</td>\n",
              "    </tr>\n",
              "    <tr>\n",
              "      <th>1</th>\n",
              "      <td>User-based KNN</td>\n",
              "      <td>10</td>\n",
              "      <td>0.920895</td>\n",
              "      <td>0.708193</td>\n",
              "      <td>0.800658</td>\n",
              "    </tr>\n",
              "    <tr>\n",
              "      <th>2</th>\n",
              "      <td>User-based KNN</td>\n",
              "      <td>15</td>\n",
              "      <td>0.919037</td>\n",
              "      <td>0.869047</td>\n",
              "      <td>0.893343</td>\n",
              "    </tr>\n",
              "    <tr>\n",
              "      <th>3</th>\n",
              "      <td>User-based KNN</td>\n",
              "      <td>20</td>\n",
              "      <td>0.918442</td>\n",
              "      <td>0.925773</td>\n",
              "      <td>0.922093</td>\n",
              "    </tr>\n",
              "    <tr>\n",
              "      <th>4</th>\n",
              "      <td>Item-based KNN</td>\n",
              "      <td>5</td>\n",
              "      <td>0.935000</td>\n",
              "      <td>0.390225</td>\n",
              "      <td>0.550640</td>\n",
              "    </tr>\n",
              "    <tr>\n",
              "      <th>5</th>\n",
              "      <td>Item-based KNN</td>\n",
              "      <td>10</td>\n",
              "      <td>0.926721</td>\n",
              "      <td>0.709384</td>\n",
              "      <td>0.803617</td>\n",
              "    </tr>\n",
              "    <tr>\n",
              "      <th>6</th>\n",
              "      <td>Item-based KNN</td>\n",
              "      <td>15</td>\n",
              "      <td>0.923564</td>\n",
              "      <td>0.864884</td>\n",
              "      <td>0.893261</td>\n",
              "    </tr>\n",
              "    <tr>\n",
              "      <th>7</th>\n",
              "      <td>Item-based KNN</td>\n",
              "      <td>20</td>\n",
              "      <td>0.922030</td>\n",
              "      <td>0.917730</td>\n",
              "      <td>0.919875</td>\n",
              "    </tr>\n",
              "    <tr>\n",
              "      <th>8</th>\n",
              "      <td>ALS</td>\n",
              "      <td>5</td>\n",
              "      <td>0.931838</td>\n",
              "      <td>0.449436</td>\n",
              "      <td>0.606399</td>\n",
              "    </tr>\n",
              "    <tr>\n",
              "      <th>9</th>\n",
              "      <td>ALS</td>\n",
              "      <td>10</td>\n",
              "      <td>0.929331</td>\n",
              "      <td>0.705142</td>\n",
              "      <td>0.801861</td>\n",
              "    </tr>\n",
              "    <tr>\n",
              "      <th>10</th>\n",
              "      <td>ALS</td>\n",
              "      <td>15</td>\n",
              "      <td>0.929077</td>\n",
              "      <td>0.792510</td>\n",
              "      <td>0.855376</td>\n",
              "    </tr>\n",
              "    <tr>\n",
              "      <th>11</th>\n",
              "      <td>ALS</td>\n",
              "      <td>20</td>\n",
              "      <td>0.929685</td>\n",
              "      <td>0.822895</td>\n",
              "      <td>0.873036</td>\n",
              "    </tr>\n",
              "    <tr>\n",
              "      <th>12</th>\n",
              "      <td>Incremental SVD</td>\n",
              "      <td>5</td>\n",
              "      <td>0.941494</td>\n",
              "      <td>0.394250</td>\n",
              "      <td>0.555771</td>\n",
              "    </tr>\n",
              "    <tr>\n",
              "      <th>13</th>\n",
              "      <td>Incremental SVD</td>\n",
              "      <td>10</td>\n",
              "      <td>0.929839</td>\n",
              "      <td>0.718627</td>\n",
              "      <td>0.810702</td>\n",
              "    </tr>\n",
              "    <tr>\n",
              "      <th>14</th>\n",
              "      <td>Incremental SVD</td>\n",
              "      <td>15</td>\n",
              "      <td>0.922502</td>\n",
              "      <td>0.880667</td>\n",
              "      <td>0.901099</td>\n",
              "    </tr>\n",
              "    <tr>\n",
              "      <th>15</th>\n",
              "      <td>Incremental SVD</td>\n",
              "      <td>20</td>\n",
              "      <td>0.919957</td>\n",
              "      <td>0.937249</td>\n",
              "      <td>0.928523</td>\n",
              "    </tr>\n",
              "  </tbody>\n",
              "</table>\n",
              "</div>"
            ],
            "text/plain": [
              "          Algorithm   M  Precision@M  Recall@M      F1@M\n",
              "0    User-based KNN   5     0.927435  0.386646  0.545764\n",
              "1    User-based KNN  10     0.920895  0.708193  0.800658\n",
              "2    User-based KNN  15     0.919037  0.869047  0.893343\n",
              "3    User-based KNN  20     0.918442  0.925773  0.922093\n",
              "4    Item-based KNN   5     0.935000  0.390225  0.550640\n",
              "5    Item-based KNN  10     0.926721  0.709384  0.803617\n",
              "6    Item-based KNN  15     0.923564  0.864884  0.893261\n",
              "7    Item-based KNN  20     0.922030  0.917730  0.919875\n",
              "8               ALS   5     0.931838  0.449436  0.606399\n",
              "9               ALS  10     0.929331  0.705142  0.801861\n",
              "10              ALS  15     0.929077  0.792510  0.855376\n",
              "11              ALS  20     0.929685  0.822895  0.873036\n",
              "12  Incremental SVD   5     0.941494  0.394250  0.555771\n",
              "13  Incremental SVD  10     0.929839  0.718627  0.810702\n",
              "14  Incremental SVD  15     0.922502  0.880667  0.901099\n",
              "15  Incremental SVD  20     0.919957  0.937249  0.928523"
            ]
          },
          "metadata": {
            "tags": []
          },
          "execution_count": 68
        }
      ]
    },
    {
      "cell_type": "code",
      "metadata": {
        "id": "CVlg6b8jTLT4",
        "outputId": "a39c1955-9bfc-49c0-ac7b-cddb84bf825b",
        "colab": {
          "base_uri": "https://localhost:8080/",
          "height": 300
        }
      },
      "source": [
        "tradeoff_df = p_and_r_df[(p_and_r_df['M'] == 5) | (p_and_r_df['M'] == 10)]\n",
        "tradeoff_df"
      ],
      "execution_count": null,
      "outputs": [
        {
          "output_type": "execute_result",
          "data": {
            "text/html": [
              "<div>\n",
              "<style scoped>\n",
              "    .dataframe tbody tr th:only-of-type {\n",
              "        vertical-align: middle;\n",
              "    }\n",
              "\n",
              "    .dataframe tbody tr th {\n",
              "        vertical-align: top;\n",
              "    }\n",
              "\n",
              "    .dataframe thead th {\n",
              "        text-align: right;\n",
              "    }\n",
              "</style>\n",
              "<table border=\"1\" class=\"dataframe\">\n",
              "  <thead>\n",
              "    <tr style=\"text-align: right;\">\n",
              "      <th></th>\n",
              "      <th>Algorithm</th>\n",
              "      <th>M</th>\n",
              "      <th>Precision@M</th>\n",
              "      <th>Recall@M</th>\n",
              "      <th>F1@M</th>\n",
              "    </tr>\n",
              "  </thead>\n",
              "  <tbody>\n",
              "    <tr>\n",
              "      <th>0</th>\n",
              "      <td>User-based KNN</td>\n",
              "      <td>5</td>\n",
              "      <td>0.926786</td>\n",
              "      <td>0.385997</td>\n",
              "      <td>0.545005</td>\n",
              "    </tr>\n",
              "    <tr>\n",
              "      <th>1</th>\n",
              "      <td>User-based KNN</td>\n",
              "      <td>10</td>\n",
              "      <td>0.920245</td>\n",
              "      <td>0.707543</td>\n",
              "      <td>0.799998</td>\n",
              "    </tr>\n",
              "    <tr>\n",
              "      <th>2</th>\n",
              "      <td>Item-based KNN</td>\n",
              "      <td>5</td>\n",
              "      <td>0.934351</td>\n",
              "      <td>0.389576</td>\n",
              "      <td>0.549880</td>\n",
              "    </tr>\n",
              "    <tr>\n",
              "      <th>3</th>\n",
              "      <td>Item-based KNN</td>\n",
              "      <td>10</td>\n",
              "      <td>0.926071</td>\n",
              "      <td>0.708735</td>\n",
              "      <td>0.802957</td>\n",
              "    </tr>\n",
              "    <tr>\n",
              "      <th>4</th>\n",
              "      <td>ALS</td>\n",
              "      <td>5</td>\n",
              "      <td>0.922085</td>\n",
              "      <td>0.449436</td>\n",
              "      <td>0.604320</td>\n",
              "    </tr>\n",
              "    <tr>\n",
              "      <th>5</th>\n",
              "      <td>ALS</td>\n",
              "      <td>10</td>\n",
              "      <td>0.921528</td>\n",
              "      <td>0.705142</td>\n",
              "      <td>0.798943</td>\n",
              "    </tr>\n",
              "    <tr>\n",
              "      <th>6</th>\n",
              "      <td>Incremental SVD</td>\n",
              "      <td>5</td>\n",
              "      <td>0.941494</td>\n",
              "      <td>0.393601</td>\n",
              "      <td>0.555126</td>\n",
              "    </tr>\n",
              "    <tr>\n",
              "      <th>7</th>\n",
              "      <td>Incremental SVD</td>\n",
              "      <td>10</td>\n",
              "      <td>0.929839</td>\n",
              "      <td>0.717977</td>\n",
              "      <td>0.810289</td>\n",
              "    </tr>\n",
              "  </tbody>\n",
              "</table>\n",
              "</div>"
            ],
            "text/plain": [
              "         Algorithm   M  Precision@M  Recall@M      F1@M\n",
              "0   User-based KNN   5     0.926786  0.385997  0.545005\n",
              "1   User-based KNN  10     0.920245  0.707543  0.799998\n",
              "2   Item-based KNN   5     0.934351  0.389576  0.549880\n",
              "3   Item-based KNN  10     0.926071  0.708735  0.802957\n",
              "4              ALS   5     0.922085  0.449436  0.604320\n",
              "5              ALS  10     0.921528  0.705142  0.798943\n",
              "6  Incremental SVD   5     0.941494  0.393601  0.555126\n",
              "7  Incremental SVD  10     0.929839  0.717977  0.810289"
            ]
          },
          "metadata": {
            "tags": []
          },
          "execution_count": 25
        }
      ]
    },
    {
      "cell_type": "code",
      "metadata": {
        "id": "t8yYtXq9IMEg",
        "outputId": "700e3805-8fa6-4421-bf19-5cd80aa1ce44",
        "colab": {
          "base_uri": "https://localhost:8080/",
          "height": 279
        }
      },
      "source": [
        "p = sns.lineplot(x='Recall@M', y='Precision@M', hue='Algorithm', style='Algorithm', markers=['o','v','s','d'], data=tradeoff_df)\n",
        "ax = plt.gca()\n",
        "handles, labels = ax.get_legend_handles_labels()\n",
        "ax.legend(handles=handles[1:], labels=labels[1:], loc=1)\n",
        "\n",
        "p.get_figure().savefig('Precision_Recall_Tradeoff.png', dpi=1000)"
      ],
      "execution_count": null,
      "outputs": [
        {
          "output_type": "display_data",
          "data": {
            "image/png": "[encoded data removed]",
            "text/plain": [
              "<Figure size 432x288 with 1 Axes>"
            ]
          },
          "metadata": {
            "tags": [],
            "needs_background": "light"
          }
        }
      ]
    },
    {
      "cell_type": "code",
      "metadata": {
        "id": "DbpR8Ej5VI40"
      },
      "source": [
        ""
      ],
      "execution_count": null,
      "outputs": []
    }
  ]
}